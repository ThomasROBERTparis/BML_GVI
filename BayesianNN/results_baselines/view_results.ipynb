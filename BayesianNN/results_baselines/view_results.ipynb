{
 "cells": [
  {
   "cell_type": "code",
   "execution_count": 1,
   "metadata": {},
   "outputs": [
    {
     "name": "stdout",
     "output_type": "stream",
     "text": [
      "RMSE\n",
      "AR-0.5 1.6195313310101778 +/- 0.05480210155234534\n",
      "AR-0.75 1.4176454533071472 +/- 0.053416825326605924\n",
      "KL 1.3443717406567326 +/- 0.06259123757731512\n",
      "AR-1.25 1.2804762877688591 +/- 0.05414442537787038\n",
      "AR-1.5 1.2460598332887316 +/- 0.05891464582137246\n",
      "AR-2.0 1.2019514350879916 +/- 0.05456464939892821\n",
      "LL\n",
      "AR-0.5 2.0093539195465357 +/- 0.018641403864109635\n",
      "AR-0.75 1.81790073411193 +/- 0.02448029876894426\n",
      "KL 1.7401125294713846 +/- 0.03612014638295593\n",
      "AR-1.25 1.677093437800327 +/- 0.03557235203577023\n",
      "AR-1.5 1.648533139776819 +/- 0.045761625835767095\n",
      "AR-2.0 1.6173072445819257 +/- 0.04923619395045886\n"
     ]
    }
   ],
   "source": [
    "import numpy as np\n",
    "\n",
    "# Path to your text file\n",
    "dict_RMSE = {\n",
    "    'AR-0.5' : r'C:\\Users\\dmgtr\\OneDrive - Ecole Polytechnique\\4A\\MVA - S2\\BML\\GVIPublic\\BayesianNN\\results_baselines\\energy_alpha0.5_lr0.001_epochs500_DtypeARlosstype_standard_splitNone_test_error.txt',\n",
    "    'AR-0.75' : r'C:\\Users\\dmgtr\\OneDrive - Ecole Polytechnique\\4A\\MVA - S2\\BML\\GVIPublic\\BayesianNN\\results_baselines\\energy_alpha0.75_lr0.001_epochs500_DtypeARlosstype_standard_splitNone_test_error.txt',\n",
    "    'KL' : r'C:\\Users\\dmgtr\\OneDrive - Ecole Polytechnique\\4A\\MVA - S2\\BML\\GVIPublic\\BayesianNN\\results_baselines\\energy_alpha-99_lr0.001_epochs500_DtypeKLlosstype_standard_splitNone_test_error.txt',\n",
    "    'AR-1.25' : r'C:\\Users\\dmgtr\\OneDrive - Ecole Polytechnique\\4A\\MVA - S2\\BML\\GVIPublic\\BayesianNN\\results_baselines\\energy_alpha1.25_lr0.001_epochs500_DtypeARlosstype_standard_splitNone_test_error.txt',\n",
    "    'AR-1.5' : r'C:\\Users\\dmgtr\\OneDrive - Ecole Polytechnique\\4A\\MVA - S2\\BML\\GVIPublic\\BayesianNN\\results_baselines\\energy_alpha1.5_lr0.001_epochs500_DtypeARlosstype_standard_splitNone_test_error.txt',\n",
    "    'AR-2.0' : r'C:\\Users\\dmgtr\\OneDrive - Ecole Polytechnique\\4A\\MVA - S2\\BML\\GVIPublic\\BayesianNN\\results_baselines\\energy_alpha2.0_lr0.001_epochs500_DtypeARlosstype_standard_splitNone_test_error.txt',\n",
    "}\n",
    "\n",
    "dict_ll = {\n",
    "    'AR-0.5' : r'C:\\Users\\dmgtr\\OneDrive - Ecole Polytechnique\\4A\\MVA - S2\\BML\\GVIPublic\\BayesianNN\\results_baselines\\energy_alpha0.5_lr0.001_epochs500_DtypeARlosstype_standard_splitNone_test_ll.txt',\n",
    "    'AR-0.75' : r'C:\\Users\\dmgtr\\OneDrive - Ecole Polytechnique\\4A\\MVA - S2\\BML\\GVIPublic\\BayesianNN\\results_baselines\\energy_alpha0.75_lr0.001_epochs500_DtypeARlosstype_standard_splitNone_test_ll.txt',\n",
    "    'KL' : r'C:\\Users\\dmgtr\\OneDrive - Ecole Polytechnique\\4A\\MVA - S2\\BML\\GVIPublic\\BayesianNN\\results_baselines\\energy_alpha-99_lr0.001_epochs500_DtypeKLlosstype_standard_splitNone_test_ll.txt',\n",
    "    'AR-1.25' : r'C:\\Users\\dmgtr\\OneDrive - Ecole Polytechnique\\4A\\MVA - S2\\BML\\GVIPublic\\BayesianNN\\results_baselines\\energy_alpha1.25_lr0.001_epochs500_DtypeARlosstype_standard_splitNone_test_ll.txt',\n",
    "    'AR-1.5' : r'C:\\Users\\dmgtr\\OneDrive - Ecole Polytechnique\\4A\\MVA - S2\\BML\\GVIPublic\\BayesianNN\\results_baselines\\energy_alpha1.5_lr0.001_epochs500_DtypeARlosstype_standard_splitNone_test_ll.txt',\n",
    "    'AR-2.0' : r'C:\\Users\\dmgtr\\OneDrive - Ecole Polytechnique\\4A\\MVA - S2\\BML\\GVIPublic\\BayesianNN\\results_baselines\\energy_alpha2.0_lr0.001_epochs500_DtypeARlosstype_standard_splitNone_test_ll.txt',\n",
    "}\n",
    "\n",
    "# Read numeric values from the text file\n",
    "dict = dict_RMSE\n",
    "print('RMSE')\n",
    "for k,v in dict.items():\n",
    "    with open(v, 'r') as txt_file:\n",
    "        numeric_values = [float(line.strip()) for line in txt_file]\n",
    "        print(k, np.mean(numeric_values), '+/-', 1.96*np.std(numeric_values)/np.sqrt(len(numeric_values)))\n",
    "\n",
    "dict = dict_ll\n",
    "print('LL')\n",
    "for k,v in dict.items():\n",
    "    with open(v, 'r') as txt_file:\n",
    "        numeric_values = [float(line.strip()) for line in txt_file]\n",
    "        print(k, np.mean(numeric_values), '+/-', 1.96*np.std(numeric_values)/np.sqrt(len(numeric_values)))"
   ]
  }
 ],
 "metadata": {
  "kernelspec": {
   "display_name": "base",
   "language": "python",
   "name": "python3"
  },
  "language_info": {
   "codemirror_mode": {
    "name": "ipython",
    "version": 3
   },
   "file_extension": ".py",
   "mimetype": "text/x-python",
   "name": "python",
   "nbconvert_exporter": "python",
   "pygments_lexer": "ipython3",
   "version": "3.12.3"
  }
 },
 "nbformat": 4,
 "nbformat_minor": 2
}
